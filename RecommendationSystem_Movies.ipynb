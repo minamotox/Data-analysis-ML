{
 "cells": [
  {
   "cell_type": "markdown",
   "id": "71ee114e-871d-4ec1-b85a-7af4c4c8f3e7",
   "metadata": {},
   "source": [
    "# Recommendation System"
   ]
  },
  {
   "cell_type": "code",
   "execution_count": null,
   "id": "2bbbd00e-46b6-4161-9ae8-867255b0fd84",
   "metadata": {
    "colab": {
     "base_uri": "https://localhost:8080/"
    },
    "executionInfo": {
     "elapsed": 690,
     "status": "ok",
     "timestamp": 1695220062399,
     "user": {
      "displayName": "Amine Hamouda",
      "userId": "06406683403374065678"
     },
     "user_tz": -60
    },
    "id": "c7346ac7-6e2d-4c41-99db-4bcae582cb9a",
    "outputId": "b9c28a83-9906-4791-f331-d511b0e2f993",
    "tags": []
   },
   "outputs": [],
   "source": [
    "import numpy as np\n",
    "import pandas as pd\n",
    "import sklearn\n",
    "import seaborn as sns\n",
    "import matplotlib\n",
    "import matplotlib.pyplot as plt\n",
    "sns.set_style('whitegrid')\n",
    "%matplotlib inline\n",
    "import sys\n",
    "\n",
    "print('python:',sys.version)\n",
    "print('Numpy:',np.__version__)\n",
    "print('Pandas:',pd.__version__)\n",
    "print('Scikitlearn:',sklearn.__version__)\n",
    "print('Seaborn: ',sns.__version__)\n",
    "print('matplotlib:',matplotlib.__version__)\n"
   ]
  },
  {
   "cell_type": "code",
   "execution_count": null,
   "id": "5c6ff62d-54b8-4259-bd77-8cccd0deabcf",
   "metadata": {
    "id": "d2dd3319-528a-4597-9520-d4d54e7eead2",
    "tags": []
   },
   "outputs": [],
   "source": [
    "\n",
    "MoviesDF=pd.read_csv(r'Data1\\tmdb_5000_movies.csv',low_memory=False)#, dtype={'overview': np.string_},low_memory=False)\n",
    "MoviesDF\n"
   ]
  },
  {
   "cell_type": "code",
   "execution_count": null,
   "id": "cf42df0d-7715-40e6-85a3-9a396742f06c",
   "metadata": {},
   "outputs": [],
   "source": [
    "VotesDF=pd.read_csv(r'Data1\\tmdb_5000_credits.csv',low_memory=False)#, dtype={'overview': np.string_},low_memory=False)\n",
    "VotesDF\n"
   ]
  },
  {
   "cell_type": "markdown",
   "id": "504cce7c-310e-4ca1-80fa-dc32bb467200",
   "metadata": {
    "id": "963de3a7-5365-4794-9a58-bb4f3467b0cb"
   },
   "source": [
    "# I. EDA "
   ]
  },
  {
   "cell_type": "markdown",
   "id": "200d71e4-9dc2-4edd-af06-cfc012311482",
   "metadata": {},
   "source": [
    "### 1) Data Summarization:"
   ]
  },
  {
   "cell_type": "code",
   "execution_count": null,
   "id": "6541f295-1292-4d15-9d1a-6190b9b60053",
   "metadata": {
    "colab": {
     "base_uri": "https://localhost:8080/"
    },
    "executionInfo": {
     "elapsed": 627,
     "status": "ok",
     "timestamp": 1695218852660,
     "user": {
      "displayName": "Amine Hamouda",
      "userId": "06406683403374065678"
     },
     "user_tz": -60
    },
    "id": "11a5ed6c-d394-4e6e-bc7c-bda4be925abb",
    "outputId": "ee7a1b9b-239a-4444-f780-2b435a14e477",
    "tags": []
   },
   "outputs": [],
   "source": [
    "MoviesDF.shape\n",
    "MoviesDF.info()\n"
   ]
  },
  {
   "cell_type": "code",
   "execution_count": null,
   "id": "0f3864f9-52e7-42af-89dd-73db039b195b",
   "metadata": {},
   "outputs": [],
   "source": [
    "from collections import Counter\n",
    "\n",
    "Counter(MoviesDF['homepage'])\n"
   ]
  },
  {
   "cell_type": "code",
   "execution_count": null,
   "id": "8e1960a3-1400-453f-be28-c1d995e94657",
   "metadata": {},
   "outputs": [],
   "source": [
    "\n",
    "MoviesDF.drop(['homepage', 'tagline', 'title'], axis=1,inplace=True, errors='raise')\n",
    "MoviesDF\n"
   ]
  },
  {
   "cell_type": "code",
   "execution_count": null,
   "id": "3032cfe2-a4c0-4bd5-9ab0-0fee7ca71eb7",
   "metadata": {
    "colab": {
     "base_uri": "https://localhost:8080/"
    },
    "executionInfo": {
     "elapsed": 305,
     "status": "ok",
     "timestamp": 1695219033722,
     "user": {
      "displayName": "Amine Hamouda",
      "userId": "06406683403374065678"
     },
     "user_tz": -60
    },
    "id": "QbSmPVZjLki0",
    "outputId": "1b293275-fb8e-4340-c0a1-093001d951a3"
   },
   "outputs": [],
   "source": [
    "\n",
    "Movies_DFF=pd.concat([MoviesDF,VotesDF] , axis=1, join='outer', ignore_index=False, \n",
    "                     keys=None, verify_integrity=False, \n",
    "                     sort=False, copy=False)\n",
    "Movies_DFF\n"
   ]
  },
  {
   "cell_type": "code",
   "execution_count": null,
   "id": "e7e57dca-0263-42c4-9462-10f589deef15",
   "metadata": {},
   "outputs": [],
   "source": [
    "Movies_DFF['id'].info()\n",
    "Movies_DFF['movie_id'].info()\n",
    "Movies_DFF.drop(['movie_id'], axis=1,inplace=True, errors='raise')\n",
    "Movies_DFF\n"
   ]
  },
  {
   "cell_type": "code",
   "execution_count": null,
   "id": "e4e98348-53b0-477b-96c4-90503a8b91f1",
   "metadata": {},
   "outputs": [],
   "source": [
    "from ast import literal_eval\n",
    "\n",
    "Movies_DFF['genres'] = Movies_DFF['genres'].fillna('['']').apply(literal_eval).apply(lambda x: [i['name'] for i in x] if isinstance(x, list) else [])\n",
    "Movies_DFF['genres']\n"
   ]
  },
  {
   "cell_type": "code",
   "execution_count": null,
   "id": "07c1ee7a-99fd-4911-b694-beba8940d4e3",
   "metadata": {},
   "outputs": [],
   "source": [
    "\n",
    "Movies_DFF['keywords'] = Movies_DFF['keywords'].fillna('[]').apply(literal_eval).apply(lambda x: [i['name'] for i in x] if isinstance(x, list) else [])\n",
    "Movies_DFF['keywords']\n"
   ]
  },
  {
   "cell_type": "code",
   "execution_count": null,
   "id": "67d56391-c2eb-44b1-8d94-468c350d9a21",
   "metadata": {},
   "outputs": [],
   "source": [
    "\n",
    "Movies_DFF['Year']= pd.to_datetime(Movies_DFF['release_date'], errors='coerce').apply(lambda x: str(x).split('-')[0] if x != np.nan else np.nan)\n",
    "Movies_DFF['Year']\n"
   ]
  },
  {
   "cell_type": "code",
   "execution_count": null,
   "id": "0a6f187e-340f-4723-aaf6-5c83c7679d6d",
   "metadata": {
    "colab": {
     "base_uri": "https://localhost:8080/"
    },
    "executionInfo": {
     "elapsed": 509,
     "status": "ok",
     "timestamp": 1695218927669,
     "user": {
      "displayName": "Amine Hamouda",
      "userId": "06406683403374065678"
     },
     "user_tz": -60
    },
    "id": "bb0714ed-d299-4f9d-a9ba-e64ddc00bd58",
    "outputId": "4d42157f-bfd2-43be-a41c-209ec6a63030",
    "tags": []
   },
   "outputs": [],
   "source": [
    "Movies_DFF.isnull().any()\n"
   ]
  },
  {
   "cell_type": "code",
   "execution_count": null,
   "id": "40910bb8-66f8-4325-a791-8638a011fcab",
   "metadata": {},
   "outputs": [],
   "source": [
    "Movies_DFF.describe()"
   ]
  },
  {
   "cell_type": "code",
   "execution_count": null,
   "id": "942e2ac8-a4bf-4e6e-a8ce-dc831e10f60d",
   "metadata": {
    "tags": []
   },
   "outputs": [],
   "source": [
    "numeric=list(Movies_DFF.describe().columns)\n",
    "categoric=list(set(Movies_DFF.columns).difference(numeric))\n",
    "Movies_DFF[categoric]\n",
    "numeric.remove('id')\n",
    "numeric\n"
   ]
  },
  {
   "cell_type": "code",
   "execution_count": null,
   "id": "83b01e02-14af-41c1-a6d5-c50febea4750",
   "metadata": {},
   "outputs": [],
   "source": [
    "Movies_DFF[categoric].isnull().any()\n",
    "Movies_DFF['release_date'].info()\n"
   ]
  },
  {
   "cell_type": "code",
   "execution_count": null,
   "id": "0f35d59e-6168-4d33-b2a9-219954ad426a",
   "metadata": {
    "scrolled": true
   },
   "outputs": [],
   "source": [
    "\n",
    "plt.figure(figsize=(20,12))\n",
    "sns.boxplot(Movies_DFF[numeric])\n",
    "plt.xticks(rotation=45)\n",
    "plt.ylim(0,1000)\n",
    "plt.show()\n"
   ]
  },
  {
   "cell_type": "markdown",
   "id": "ead650ec-b29b-4686-9c47-585b2ba24574",
   "metadata": {
    "id": "963de3a7-5365-4794-9a58-bb4f3467b0cb"
   },
   "source": [
    "# II. Modelling:"
   ]
  },
  {
   "cell_type": "markdown",
   "id": "d361c665-dc90-44f9-9eab-c20aa4f7af30",
   "metadata": {},
   "source": [
    "### 1) Calculate parameters:"
   ]
  },
  {
   "cell_type": "markdown",
   "id": "002a9c96-5b2f-4f14-a06a-cf9d2afb0df1",
   "metadata": {},
   "source": [
    "the model predicts the rating for movie $i$ by user $j$ as <br>\n",
    "$y^{(i,j)} = \\mathbf{w}^{(j)}\\cdot \\mathbf{x}^{(i)} + b^{(i)}$ <br>\n"
   ]
  },
  {
   "cell_type": "markdown",
   "id": "eccabe6c-89b0-4f5b-9202-8ab9a9acc933",
   "metadata": {},
   "source": [
    "<b>y</b>= Item feature matrix - This parameter represents the latent features or characteristics of the items in the recommendation system. It captures the underlying properties or attributes of the items that are relevant for making recommendations.<br>\n",
    "<b>w </b>= Weight matrix, Each weight corresponds to the importance or relevance of a particular feature in determining the recommendation. <br>\n",
    "<b>x</b>= Input vector or User feature matrix - This parameter represents the latent features or preferences of the users in the recommendation system. It captures the underlying characteristics or preferences of the users that influence their interactions with items.<br>\n",
    "<b>b</b>= Bias term - This represents an additional constant term that is added to the recommendation scores. The bias term captures the overall tendency or bias in the recommendation system, such as the average rating or popularity of items, or the average behavior of users. <br>\n",
    "<b>r</b>= Rating matrix - This parameter represents the user-item interaction matrix, where each entry corresponds to the rating or preference of a user for an item.<br>\n"
   ]
  },
  {
   "cell_type": "code",
   "execution_count": null,
   "id": "c3022719-606d-4827-b61b-569ce1900bff",
   "metadata": {},
   "outputs": [],
   "source": [
    "\n",
    "RatingsDF=pd.read_csv(r'Data2\\ratings_small.csv',low_memory=False,\n",
    "                      index_col=None)\n",
    "RatingsDF\n",
    "#Movies_DFF\n"
   ]
  },
  {
   "cell_type": "markdown",
   "id": "60cb7a6c-0c0a-4a76-a4bf-dad63f755dd5",
   "metadata": {
    "_cell_guid": "23cf39ba-ef09-4972-9d1f-ed91cb2ef134",
    "_uuid": "9571875d383f237f126febe9c76f966e2869fdc3"
   },
   "source": [
    "Using the TMDB Ratings to come up with our **Top Movies Chart.** I will use IMDB's *weighted rating* formula to construct my chart. Mathematically, it is represented as follows:\n",
    "\n",
    "Weighted Rating (WR) = $(\\frac{v}{v + m} . R) + (\\frac{m}{v + m} . C)$\n",
    "\n",
    "where,\n",
    "* *v* is the number of votes for the movie\n",
    "* *m* is the minimum votes required to be listed in the chart\n",
    "* *R* is the average rating of the movie\n",
    "* *C* is the mean vote across the whole report\n"
   ]
  },
  {
   "cell_type": "code",
   "execution_count": null,
   "id": "2710e36c-1e75-4fc9-a0f9-3e0f02876dd9",
   "metadata": {},
   "outputs": [],
   "source": [
    "v=Movies_DFF['vote_count']\n",
    "m=np.min(Movies_DFF['vote_count'], axis=0, out=None)\n",
    "R=Movies_DFF['vote_average']\n",
    "C=np.mean(Movies_DFF['vote_average'])\n",
    "C\n"
   ]
  },
  {
   "cell_type": "code",
   "execution_count": null,
   "id": "708f6489-b8b5-41d9-9051-7c0b9852f6ea",
   "metadata": {},
   "outputs": [],
   "source": [
    "vote_counts = Movies_DFF[Movies_DFF['vote_count'].notnull()]['vote_count'].astype('int')\n",
    "vote_averages = Movies_DFF[Movies_DFF['vote_average'].notnull()]['vote_average'].astype('int')\n",
    "C=vote_averages.mean()\n",
    "m = vote_counts.quantile(0.95)\n",
    "C\n"
   ]
  },
  {
   "cell_type": "code",
   "execution_count": null,
   "id": "1fbc99a2-44b1-4b70-826f-34e2e6cb69e5",
   "metadata": {},
   "outputs": [],
   "source": [
    "def weighted_rating(x):\n",
    "    return (v/(v+m) * R) + (m/(m+v) * C)\n"
   ]
  },
  {
   "cell_type": "code",
   "execution_count": null,
   "id": "b77bc3cd-f3a6-4b71-8fe4-4e3cbb78176d",
   "metadata": {},
   "outputs": [],
   "source": [
    "Qualified = Movies_DFF[(Movies_DFF['vote_count'] >= m) & (Movies_DFF['vote_count'].notnull()) & (Movies_DFF['vote_average'].notnull())][['title', 'Year', 'vote_count', 'vote_average', 'popularity', 'genres']]\n",
    "Qualified['vote_count'] = Qualified['vote_count'].astype('int')\n",
    "Qualified['vote_average'] = Qualified['vote_average'].astype('int')\n",
    "Qualified.shape\n"
   ]
  },
  {
   "cell_type": "code",
   "execution_count": null,
   "id": "d1945d5e-b81a-4067-8a35-5ee897fb69f5",
   "metadata": {},
   "outputs": [],
   "source": [
    "\n",
    "Qualified['WR']=weighted_rating(Qualified)\n",
    "Top=Qualified.sort_values('WR', ascending=False)\n",
    "Top"
   ]
  },
  {
   "cell_type": "code",
   "execution_count": null,
   "id": "31666aa3-9a46-4f6b-8678-bf2a81571726",
   "metadata": {},
   "outputs": [],
   "source": [
    "\n",
    "transformed_genre = [[str(element) for element in sublist] for sublist in Qualified['genres']]\n",
    "len(transformed_genre)\n"
   ]
  },
  {
   "cell_type": "code",
   "execution_count": null,
   "id": "940599cc-ee0f-44d8-96c7-e255b99741c6",
   "metadata": {},
   "outputs": [],
   "source": [
    "\n",
    "Qualified['genres']=transformed_genre\n",
    "Qualified\n"
   ]
  },
  {
   "cell_type": "code",
   "execution_count": null,
   "id": "90b3f5d1-f2cc-43e1-8bae-44b1fece4b98",
   "metadata": {},
   "outputs": [],
   "source": [
    "\n",
    "Gen = Qualified[Qualified['genres'].apply(lambda x: 'Crime' in x)]\n",
    "Top2=Gen.sort_values('WR', ascending=False)\n",
    "Top2\n"
   ]
  },
  {
   "cell_type": "markdown",
   "id": "2adf5f55-e120-4c46-8f71-3a49cc989e37",
   "metadata": {},
   "source": [
    "### 2) Collaborative Filtering:"
   ]
  },
  {
   "cell_type": "code",
   "execution_count": null,
   "id": "e551f1d0-6393-4e87-ac92-23860c5adf74",
   "metadata": {},
   "outputs": [],
   "source": [
    "RatingsDF\n"
   ]
  },
  {
   "cell_type": "code",
   "execution_count": null,
   "id": "7c915aa5-ae39-4220-8057-18b5f11316c0",
   "metadata": {},
   "outputs": [],
   "source": [
    "from surprise import Reader, Dataset, SVD, evaluate\n",
    "\n",
    "reader = Reader()\n",
    "data = Dataset.load_from_df(RatingsDF[['userId', 'movieId', 'rating']], reader)\n",
    "data.split(n_folds=5)\n",
    "data\n"
   ]
  },
  {
   "cell_type": "code",
   "execution_count": null,
   "id": "cb469167-7dc5-4437-899f-88ca8cf83bfc",
   "metadata": {},
   "outputs": [],
   "source": []
  },
  {
   "cell_type": "markdown",
   "id": "ba18a3f0-51f1-4195-814b-6438d53c2f33",
   "metadata": {},
   "source": [
    "### 2) 2nd Method"
   ]
  },
  {
   "cell_type": "code",
   "execution_count": null,
   "id": "1b3fc9b3-5337-4874-9e6a-527a36e3cd38",
   "metadata": {},
   "outputs": [],
   "source": [
    "# Y\n",
    "col=list(Movies_DFF.columns)\n",
    "col.remove('vote_average')\n",
    "col.remove('vote_count')\n",
    "Y=Movies_DFF[col]\n",
    "Y\n"
   ]
  },
  {
   "cell_type": "code",
   "execution_count": null,
   "id": "b0e5fa83-660d-4353-b6ac-a605dd766a3c",
   "metadata": {},
   "outputs": [],
   "source": [
    "# W\n",
    "\n",
    "W=pd.concat([Movies_DFF['id'], Movies_DFF['revenue'],Movies_DFF['popularity'], ],axis=1)\n",
    "W\n"
   ]
  },
  {
   "cell_type": "code",
   "execution_count": null,
   "id": "bb6a9dc9-50d9-44d3-adc1-a6b5a2ff589d",
   "metadata": {},
   "outputs": [],
   "source": [
    "# X\n",
    "\n",
    "X=pd.concat([Movies_DFF['title'], Movies_DFF['cast'],Movies_DFF['genres'], Movies_DFF['keywords'],\n",
    "             Movies_DFF['popularity'], Movies_DFF['revenue'],Movies_DFF['production_countries'],\n",
    "             Movies_DFF['release_date'],Movies_DFF['spoken_languages']], axis=1)\n",
    "X\n"
   ]
  },
  {
   "cell_type": "code",
   "execution_count": null,
   "id": "d5aef64c-a22a-4862-ad28-dbf7694018e9",
   "metadata": {},
   "outputs": [],
   "source": [
    "# B  (Constant)\n",
    "B=pd.concat([Movies_DFF['id'], Movies_DFF['vote_average']], axis=1)\n",
    "B\n",
    "            "
   ]
  },
  {
   "cell_type": "code",
   "execution_count": null,
   "id": "8cbfae94-ab0b-4a97-82bf-93ff949c5290",
   "metadata": {},
   "outputs": [],
   "source": [
    "# R\n",
    "\n",
    "R=RatingsDF.iloc[:,0:3]\n",
    "R\n"
   ]
  },
  {
   "cell_type": "code",
   "execution_count": null,
   "id": "379e52f5-ad9e-4f42-8438-16b983872e3a",
   "metadata": {},
   "outputs": [],
   "source": [
    "param=[X, W, B, Y, R]\n",
    "print(f'the parameters [X, W, B, Y, R] shapes are:')\n",
    "for a in param:\n",
    "    print(f'\\n param=', a.shape)\n"
   ]
  },
  {
   "cell_type": "markdown",
   "id": "3370373e-1e93-40c7-b024-947819a4739b",
   "metadata": {},
   "source": [
    "### Collaborative filtering cost function\n",
    "\n",
    "The collaborative filtering cost function is given by\n",
    "$$ J({\\mathbf{x}^{(0)},...,\\mathbf{x}^{(n_m-1)},\\mathbf{w}^{(0)},b^{(0)},...,\\mathbf{w}^{(n_u-1)},b^{(n_u-1)}})= \\frac{1}{2}\\sum_{(i,j):r(i,j)=1}(\\mathbf{w}^{(j)} \\cdot \\mathbf{x}^{(i)} + b^{(j)} - y^{(i,j)})^2\n",
    "+\\underbrace{\n",
    "\\frac{\\lambda}{2}\n",
    "\\sum_{j=0}^{n_u-1}\\sum_{k=0}^{n-1}(\\mathbf{w}^{(j)}_k)^2\n",
    "+ \\frac{\\lambda}{2}\\sum_{i=0}^{n_m-1}\\sum_{k=0}^{n-1}(\\mathbf{x}_k^{(i)})^2\n",
    "}_{regularization}\n",
    "\\tag{1}$$\n",
    "The first summation in (1) is \"for all $i$, $j$ where $r(i,j)$ equals $1$\" and could be written:\n",
    "\n",
    "$$\n",
    "= \\frac{1}{2}\\sum_{j=0}^{n_u-1} \\sum_{i=0}^{n_m-1}r(i,j)*(\\mathbf{w}^{(j)} \\cdot \\mathbf{x}^{(i)} + b^{(j)} - y^{(i,j)})^2\n",
    "+\\text{regularization}\n",
    "$$\n",
    "\n",
    "You should now write cofiCostFunc (collaborative filtering cost function) to return this cost."
   ]
  },
  {
   "cell_type": "code",
   "execution_count": null,
   "id": "cae701f5-e72e-464f-a807-e039fe6ffbf5",
   "metadata": {},
   "outputs": [],
   "source": [
    "\n",
    "def cofi_cost_func(X, W, B, Y, R, lambda_):\n",
    "    nm, nu = Y.shape\n",
    "    J = 0\n",
    "    for j in range(nu):\n",
    "        for i in range(nm):\n",
    "            w = W.iloc[:,j]\n",
    "            b_j = B.iloc[:,j]\n",
    "            x = X.iloc[i,:]\n",
    "            y = Y.iloc[i,j]\n",
    "            r = R.iloc[i,j]\n",
    "            J += r * np.square((np.dot(w,x) + b_j - y ))\n",
    "    J += (lambda_) * (np.sum(np.square(W)) + np.sum(np.square(X)))\n",
    "    J = J/2\n",
    "    return J\n"
   ]
  },
  {
   "cell_type": "code",
   "execution_count": null,
   "id": "0bd70ed9-68be-43ed-a9e3-8a4b5f8b4c6a",
   "metadata": {},
   "outputs": [],
   "source": [
    "num_users_r = 300\n",
    "num_movies_r = 2000\n",
    "num_features_r = 18\n",
    "\n",
    "X_r = X.iloc[:num_movies_r, : ]\n",
    "W_r = W.iloc[:num_users_r,  :]\n",
    "b_r = B.iloc[0 :num_users_r]#.reshape(1,-1)\n",
    "Y_r = Y.iloc[:num_movies_r]#, :num_users_r]\n",
    "R_r = R[:num_movies_r]\n",
    "\n",
    "# Evaluate cost function\n",
    "J = cofi_cost_func(X_r, W_r, b_r, Y_r, R_r, 0);\n",
    "print(f\"Cost: {J:0.2f}\")\n"
   ]
  },
  {
   "cell_type": "code",
   "execution_count": null,
   "id": "14cebc65-f20a-44a6-acef-37cdcf425c99",
   "metadata": {},
   "outputs": [],
   "source": [
    "R_r"
   ]
  },
  {
   "cell_type": "markdown",
   "id": "2fd7b9a9-483e-4b8f-b07b-a086e93614bd",
   "metadata": {},
   "source": [
    "### 2) Data Transformation : "
   ]
  },
  {
   "cell_type": "code",
   "execution_count": null,
   "id": "47405280-757b-4d53-8eeb-f858896ecca2",
   "metadata": {},
   "outputs": [],
   "source": []
  }
 ],
 "metadata": {
  "kernelspec": {
   "display_name": "Python 3 (ipykernel)",
   "language": "python",
   "name": "python3"
  },
  "language_info": {
   "codemirror_mode": {
    "name": "ipython",
    "version": 3
   },
   "file_extension": ".py",
   "mimetype": "text/x-python",
   "name": "python",
   "nbconvert_exporter": "python",
   "pygments_lexer": "ipython3",
   "version": "3.9.18"
  }
 },
 "nbformat": 4,
 "nbformat_minor": 5
}
