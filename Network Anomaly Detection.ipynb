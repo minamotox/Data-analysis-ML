{
 "cells": [
  {
   "cell_type": "markdown",
   "id": "ec29572c-0c1d-48e5-971c-b605c372fdd6",
   "metadata": {},
   "source": [
    " # <b><span style=\"color: #ff4c4c\">  Network Anomaly Detection </span>"
   ]
  },
  {
   "cell_type": "markdown",
   "id": "89ee9a00-49fa-4dd2-9abd-f72a25ed7558",
   "metadata": {},
   "source": [
    "## Goals & Objectives:"
   ]
  },
  {
   "cell_type": "markdown",
   "id": "0293fc7f-4acc-40b5-8d57-d581998f6fb0",
   "metadata": {},
   "source": [
    "\n",
    "Network parameters data, with 4000 samples, 35 features. Need to build an anomaly detection prediction model."
   ]
  },
  {
   "cell_type": "code",
   "execution_count": null,
   "id": "b4cf719b-ebf3-4685-a8fc-ab0c3c08c20b",
   "metadata": {
    "colab": {
     "base_uri": "https://localhost:8080/"
    },
    "executionInfo": {
     "elapsed": 690,
     "status": "ok",
     "timestamp": 1695220062399,
     "user": {
      "displayName": "Amine Hamouda",
      "userId": "06406683403374065678"
     },
     "user_tz": -60
    },
    "id": "c7346ac7-6e2d-4c41-99db-4bcae582cb9a",
    "outputId": "b9c28a83-9906-4791-f331-d511b0e2f993",
    "tags": []
   },
   "outputs": [],
   "source": [
    "import numpy as np\n",
    "import pandas as pd\n",
    "import sklearn\n",
    "import seaborn as sns\n",
    "import matplotlib\n",
    "import matplotlib.pyplot as plt\n",
    "sns.set_style('whitegrid')\n",
    "%matplotlib inline\n",
    "import sys\n",
    "\n",
    "print('python:',sys.version)\n",
    "print('Numpy:',np.__version__)\n",
    "print('Pandas:',pd.__version__)\n",
    "print('Scikitlearn:',sklearn.__version__)\n",
    "print('Seaborn: ',sns.__version__)\n",
    "print('matplotlib:',matplotlib.__version__)\n"
   ]
  },
  {
   "cell_type": "code",
   "execution_count": null,
   "id": "c4d3c030-13cc-4855-a9c3-1d5b4be9954c",
   "metadata": {
    "id": "d2dd3319-528a-4597-9520-d4d54e7eead2",
    "tags": []
   },
   "outputs": [],
   "source": [
    "NA=pd.read_csv(r'Network Anomaly Detection Dataset_all.csv')\n",
    "NA\n"
   ]
  },
  {
   "cell_type": "markdown",
   "id": "57850cb0-faf4-43bf-9e09-321965760c97",
   "metadata": {
    "id": "963de3a7-5365-4794-9a58-bb4f3467b0cb"
   },
   "source": [
    "# I. EDA "
   ]
  },
  {
   "cell_type": "markdown",
   "id": "b76880f7-7705-42bb-a8db-4796d92b3b37",
   "metadata": {},
   "source": [
    "### 1) Data Summarization:"
   ]
  },
  {
   "cell_type": "code",
   "execution_count": null,
   "id": "8a810527-f32d-4477-8005-46fe0be902c0",
   "metadata": {
    "colab": {
     "base_uri": "https://localhost:8080/"
    },
    "executionInfo": {
     "elapsed": 627,
     "status": "ok",
     "timestamp": 1695218852660,
     "user": {
      "displayName": "Amine Hamouda",
      "userId": "06406683403374065678"
     },
     "user_tz": -60
    },
    "id": "11a5ed6c-d394-4e6e-bc7c-bda4be925abb",
    "outputId": "ee7a1b9b-239a-4444-f780-2b435a14e477",
    "tags": []
   },
   "outputs": [],
   "source": [
    "NA.shape\n",
    "NA.info()\n"
   ]
  },
  {
   "cell_type": "code",
   "execution_count": null,
   "id": "e8294c7d-4632-48b2-9b62-1800236c6d9f",
   "metadata": {
    "colab": {
     "base_uri": "https://localhost:8080/"
    },
    "executionInfo": {
     "elapsed": 305,
     "status": "ok",
     "timestamp": 1695219033722,
     "user": {
      "displayName": "Amine Hamouda",
      "userId": "06406683403374065678"
     },
     "user_tz": -60
    },
    "id": "QbSmPVZjLki0",
    "outputId": "1b293275-fb8e-4340-c0a1-093001d951a3"
   },
   "outputs": [],
   "source": [
    "NA.describe()\n"
   ]
  },
  {
   "cell_type": "code",
   "execution_count": null,
   "id": "c821f6f7-35e6-49d0-a23a-058fcc509d60",
   "metadata": {
    "colab": {
     "base_uri": "https://localhost:8080/"
    },
    "executionInfo": {
     "elapsed": 509,
     "status": "ok",
     "timestamp": 1695218927669,
     "user": {
      "displayName": "Amine Hamouda",
      "userId": "06406683403374065678"
     },
     "user_tz": -60
    },
    "id": "bb0714ed-d299-4f9d-a9ba-e64ddc00bd58",
    "outputId": "4d42157f-bfd2-43be-a41c-209ec6a63030",
    "tags": []
   },
   "outputs": [],
   "source": [
    "NA.isnull().any()\n"
   ]
  },
  {
   "cell_type": "code",
   "execution_count": null,
   "id": "81c7a5f6-b264-4a16-b57e-0c5c59135b8f",
   "metadata": {
    "tags": []
   },
   "outputs": [],
   "source": [
    "from collections import Counter\n",
    "\n",
    "NA['class'].info()\n",
    "Counter(NA['class'])\n"
   ]
  },
  {
   "cell_type": "code",
   "execution_count": null,
   "id": "e91b5201-84cb-4602-9592-53704c19ce6b",
   "metadata": {
    "tags": []
   },
   "outputs": [],
   "source": [
    "numeric=list(NA.describe().columns)\n",
    "categoric=list(set(NA.columns).difference(numeric))\n",
    "NA[categoric]\n"
   ]
  },
  {
   "cell_type": "code",
   "execution_count": null,
   "id": "7c95bf9d-c94a-4ec4-b9ab-c4ba31803d6e",
   "metadata": {},
   "outputs": [],
   "source": [
    "plt.figure(figsize=(20,11))\n",
    "sns.boxplot(NA[numeric])\n",
    "plt.xticks(rotation=45)\n",
    "plt.show()"
   ]
  },
  {
   "cell_type": "markdown",
   "id": "ca758756-07b0-49fc-8389-37d70d72b453",
   "metadata": {},
   "source": [
    "### 2) Data Transformation : "
   ]
  },
  {
   "cell_type": "markdown",
   "id": "e2770f30-ce2b-451e-8f6f-9dbdbacf42b0",
   "metadata": {},
   "source": [
    "#### Z score Data transformation"
   ]
  },
  {
   "cell_type": "code",
   "execution_count": null,
   "id": "ea1c129a-0e3e-4829-a304-69b9a8859250",
   "metadata": {},
   "outputs": [],
   "source": [
    "from scipy import stats\n",
    "\n",
    "z_scores = stats.zscore(NA[numeric])\n",
    "outliers = NA[(z_scores < -2) | (z_scores > 2)]\n",
    "outliers.describe()\n",
    "#z_scores.describe()\n",
    "outliers.isna()#.sum()\n",
    "co=[]\n",
    "for a in outliers.columns:\n",
    "    co.append(outliers[a].isna().sum()) #Counter(\n",
    "co\n"
   ]
  },
  {
   "cell_type": "code",
   "execution_count": null,
   "id": "ac704e60-3ebd-434e-8d0e-ca70608f77f1",
   "metadata": {},
   "outputs": [],
   "source": [
    "plt.figure(figsize=(20,11))\n",
    "sns.boxplot(z_scores)\n",
    "plt.xticks(rotation=90)\n",
    "plt.show()\n"
   ]
  },
  {
   "cell_type": "code",
   "execution_count": null,
   "id": "fe4b5d1f-8fc4-41c7-9e9d-36b6aa327595",
   "metadata": {},
   "outputs": [],
   "source": [
    "Q1 = NA[numeric].quantile(0.25)\n",
    "Q3 = NA[numeric].quantile(0.75)\n",
    "IQR = Q3 - Q1\n",
    "outliers = NA[NA[numeric] < (Q1 - 1.5 * IQR) | (NA[numeric] > (Q3 + 1.5 * IQR))]\n",
    "outliers.describe()\n",
    "#Counter(outliers['ifoutDiscards11'])\n"
   ]
  },
  {
   "cell_type": "code",
   "execution_count": null,
   "id": "c72df128-8aad-4e55-8e9b-dd3bae1319dd",
   "metadata": {},
   "outputs": [],
   "source": [
    "plt.figure(figsize=(15,28))\n",
    "#mask for upper triangle\n",
    "mask=np.zeros_like(z_scores[numeric].corr(), dtype=bool)\n",
    "mask[np.triu_indices_from(mask)]=True\n",
    "mask = np.logical_and(mask, (z_scores[numeric].corr() > -0.5) | (z_scores[numeric].corr() < 0.5))\n",
    "#Generate custom diverging colormap\n",
    "#cmap=sns.color_palette(\"flare\")\n",
    "cmap=sns.diverging_palette(h_neg=12, h_pos=12, s=100, l=40, sep=2, n=10, center='light', as_cmap=False)\n",
    "#Heatmap with mask with correct aspect ratio\n",
    "sns.heatmap(z_scores[numeric].corr(), mask=mask, cmap=cmap, vmin=-1,vmax=1,\n",
    "            center=0, square=True, linewidths=0.5,annot=True, fmt='.2f', cbar_kws={'shrink':0.5})\n",
    "plt.show()\n"
   ]
  },
  {
   "cell_type": "markdown",
   "id": "0b287ad8-4add-4717-a40e-73d658c96c0d",
   "metadata": {},
   "source": [
    "#### Ln transform"
   ]
  },
  {
   "cell_type": "code",
   "execution_count": null,
   "id": "750bf015-c926-4f4a-82a5-254e8e1ab8d9",
   "metadata": {},
   "outputs": [],
   "source": [
    "zero_count = NA[numeric].eq(0).sum()\n",
    "zero_count\n"
   ]
  },
  {
   "cell_type": "code",
   "execution_count": null,
   "id": "bf063aa0-120c-411a-9140-33d4e1a305c6",
   "metadata": {},
   "outputs": [],
   "source": [
    "for a in numeric:\n",
    "    for j in range(0,len(NA[numeric])):\n",
    "        if NA[a][j]==0:\n",
    "            NA[a][j]+=0.0001\n",
    "zero_count\n"
   ]
  },
  {
   "cell_type": "code",
   "execution_count": null,
   "id": "855a4944-b612-48ab-b17a-8788db89cc81",
   "metadata": {},
   "outputs": [],
   "source": [
    "for column in NA.columns:\n",
    "    NA.loc[NA[column] == 0, column] += 0.0001\n",
    "NA[numeric].eq(0).sum()\n"
   ]
  },
  {
   "cell_type": "code",
   "execution_count": null,
   "id": "04a2deec-cf48-40f4-9b77-afcc6eed3b09",
   "metadata": {},
   "outputs": [],
   "source": [
    "NA2=np.log(NA[numeric])\n",
    "NA2\n"
   ]
  },
  {
   "cell_type": "code",
   "execution_count": null,
   "id": "6679731d-7df1-4a58-a3f3-62db9b6d6d58",
   "metadata": {},
   "outputs": [],
   "source": [
    "\n",
    "plt.figure(figsize=(20,11))\n",
    "sns.boxplot(NA2)\n",
    "plt.xticks(rotation=90)\n",
    "plt.show()\n"
   ]
  },
  {
   "cell_type": "code",
   "execution_count": null,
   "id": "2fe041ec-25e8-4871-a325-20bedb2d5dc0",
   "metadata": {},
   "outputs": [],
   "source": [
    "# hight Correlation Features\n",
    "\n",
    "plt.figure(figsize=(20,11))\n",
    "sns.boxplot(NA2[pair])\n",
    "plt.xticks(rotation=90)\n",
    "plt.show()\n"
   ]
  },
  {
   "cell_type": "markdown",
   "id": "11136e6f-9852-4c35-8fda-5054da0e02d0",
   "metadata": {},
   "source": [
    "#### categoric data transformation"
   ]
  },
  {
   "cell_type": "code",
   "execution_count": null,
   "id": "78e4d0b6-8f77-48b4-8b90-89db8f12a994",
   "metadata": {
    "tags": []
   },
   "outputs": [],
   "source": [
    "from sklearn.preprocessing import LabelEncoder\n",
    "\n",
    "NA3=z_scores\n",
    "le = LabelEncoder()\n",
    "NA3['Class'] = le.fit_transform(NA[categoric])\n",
    "NA3\n"
   ]
  },
  {
   "cell_type": "markdown",
   "id": "e0e32ab5-0f74-41f5-a892-397d35d3d13c",
   "metadata": {},
   "source": [
    "### 3) PCA : "
   ]
  },
  {
   "cell_type": "code",
   "execution_count": null,
   "id": "5d13d613-90c4-4239-bc23-ba6f52b75549",
   "metadata": {},
   "outputs": [],
   "source": [
    "from sklearn.decomposition import PCA\n",
    "\n",
    "pca=PCA(n_components=3)\n",
    "pca.fit(NA3)\n"
   ]
  },
  {
   "cell_type": "code",
   "execution_count": null,
   "id": "2113b6c7-5935-4d2e-ab19-6a880625ceb3",
   "metadata": {},
   "outputs": [],
   "source": [
    "pca.components_, pca.explained_variance_, pca.explained_variance_ratio_\n"
   ]
  },
  {
   "cell_type": "code",
   "execution_count": null,
   "id": "ace54e51-1cc8-4912-889a-d2194a92b721",
   "metadata": {
    "tags": []
   },
   "outputs": [],
   "source": [
    "X_pca=pca.fit_transform(NA3)\n",
    "c=NA3['tcpEstabResets']#['ifInDiscards11'] # ['tcpEstabResets']     \n",
    "\n",
    "plt.figure(figsize=(8,10))\n",
    "plt.scatter(X_pca[:, 0], X_pca[:, 1], c=c, cmap='viridis')  # 'y' is the target variable for\n",
    "#coloring points\n",
    "\n",
    "plt.xlabel('First Principal Component')\n",
    "plt.ylabel('Second Principal Component')\n",
    "plt.title(f'PCA Scatter {c}')\n",
    "plt.colorbar()  # Add a colorbar if you're using class labels for coloring\n",
    "plt.show()\n"
   ]
  },
  {
   "cell_type": "markdown",
   "id": "26adbfaa-41c2-471c-9012-be010c4fd037",
   "metadata": {},
   "source": [
    "## <b><span style=\"color: #FF0000\"> Interpretation:</span> </b>\n",
    "There is 2 clusters in 2nd component arround 4 and 6. These clusters not depending on ['ifOutOctets11'] nor ['Class'].<br>\n",
    "First Investigations show that these clusters are within NA3['ifInDiscards11']>2\n"
   ]
  },
  {
   "cell_type": "markdown",
   "id": "7156ffb9-60f3-4e9e-9944-f61a5dc66fce",
   "metadata": {},
   "source": [
    "### 4) Data Visualization:"
   ]
  },
  {
   "cell_type": "markdown",
   "id": "c07bf831-81f2-451f-bb85-f130016e8681",
   "metadata": {},
   "source": [
    "### Heatmap"
   ]
  },
  {
   "cell_type": "code",
   "execution_count": null,
   "id": "272c8a3a-f084-4f99-80cb-6c957238ceae",
   "metadata": {
    "tags": []
   },
   "outputs": [],
   "source": [
    "plt.figure(figsize=(15,28))\n",
    "#mask for upper triangle\n",
    "mask=np.zeros_like(NA[numeric].corr(), dtype=bool)\n",
    "mask[np.triu_indices_from(mask)]=True\n",
    "#Generate custom diverging colormap\n",
    "#cmap=sns.color_palette(\"flare\")\n",
    "cmap=sns.diverging_palette(h_neg=12, h_pos=12, s=100, l=40, sep=2, n=10, center='light', as_cmap=False)\n",
    "#Heatmap with mask with correct aspect ratio\n",
    "sns.heatmap(NA[numeric].corr(), mask=mask, cmap=cmap, vmin=-1,vmax=1,\n",
    "            center=0, square=True, linewidths=0.5,annot=True, fmt='.2f', cbar_kws={'shrink':0.5})\n",
    "plt.show()\n"
   ]
  },
  {
   "cell_type": "code",
   "execution_count": null,
   "id": "24914e1b-4263-4dba-a7ab-d9514496bdfb",
   "metadata": {},
   "outputs": [],
   "source": [
    "#PairPlot \n",
    "\n",
    "plt.figure(figsize=(20,12))\n",
    "sns.pairplot(NA, hue='ifOutOctets11' ,palette='BuPu', kind='scatter', markers='^' ,dropna=True, height=3)\n",
    "#palette='BuPu'\n",
    "plt.legend()\n",
    "plt.show()\n"
   ]
  },
  {
   "cell_type": "markdown",
   "id": "8ce00c39-df61-4271-aa22-324a16cdaa1a",
   "metadata": {},
   "source": [
    "### Heatmap with z scores: "
   ]
  },
  {
   "cell_type": "code",
   "execution_count": null,
   "id": "2049b9a1-3766-40a9-849a-004ed10050bb",
   "metadata": {},
   "outputs": [],
   "source": [
    "plt.figure(figsize=(15,28))\n",
    "#mask for upper triangle\n",
    "mask=np.zeros_like(z_scores[numeric].corr(), dtype=bool)\n",
    "mask[np.triu_indices_from(mask)]=True\n",
    "#Generate custom diverging colormap\n",
    "#cmap=sns.color_palette(\"flare\")\n",
    "cmap=sns.diverging_palette(h_neg=12, h_pos=12, s=100, l=40, sep=2, n=10, center='light', as_cmap=False)\n",
    "#Heatmap with mask with correct aspect ratio\n",
    "sns.heatmap(NA3[numeric].corr(), mask=mask, cmap=cmap, vmin=-1,vmax=1,\n",
    "            center=0, square=True, linewidths=0.5,annot=True, fmt='.2f', cbar_kws={'shrink':0.5})\n",
    "plt.show()\n"
   ]
  },
  {
   "cell_type": "markdown",
   "id": "da446618-c7ad-4f6d-97b1-4e668c0c1b06",
   "metadata": {},
   "source": [
    "useless feature: tcp Estab reset, so: <br>\n",
    "pair=['ifOutOctets11','ifInDiscards11', 'tcpOutRsts', 'tcpOutSegs','udpOutDatagrams',\n",
    "      'ipOutRequests','tcpEstabResets', 'ipInAddErrors']"
   ]
  },
  {
   "cell_type": "code",
   "execution_count": null,
   "id": "49f14bd9-7aef-43bc-b5eb-371e1d4cfbde",
   "metadata": {},
   "outputs": [],
   "source": [
    "#List with most relevant features according to correlation scores\n",
    "pair=['ifOutOctets11','ifInDiscards11', 'tcpOutRsts', 'tcpOutSegs','udpOutDatagrams',\n",
    "      'ipOutRequests','Class','ipInAddrErrors']\n",
    "pair2=['ifOutOctets11','ifInDiscards11', 'tcpOutRsts','ipOutRequests', 'Class']\n"
   ]
  },
  {
   "cell_type": "code",
   "execution_count": null,
   "id": "70c5b01c-9a24-4fd6-8dd3-85a2b2c8fa68",
   "metadata": {},
   "outputs": [],
   "source": [
    "#PairPlot with most relevant features according to correlation scores\n",
    "plt.figure(figsize=(16,12))\n",
    "sns.pairplot(NA3[pair], hue='Class' ,palette='bright', kind='scatter', markers='^' ,dropna=True, height=3)\n",
    "#palette='BuPu'\n",
    "plt.legend()\n",
    "plt.show()\n"
   ]
  },
  {
   "cell_type": "code",
   "execution_count": null,
   "id": "48ac747b-4d2f-4f4d-99b1-9dd3967fe631",
   "metadata": {},
   "outputs": [],
   "source": [
    "#ItInDiscard & Tcpout need to be discarded because of their behaviour with all relevant features.\n",
    "pair=['ifOutOctets11', 'tcpOutSegs','udpOutDatagrams','ipOutRequests','Class','ipInAddrErrors']"
   ]
  },
  {
   "cell_type": "code",
   "execution_count": null,
   "id": "2dbe35ad-c39e-41b3-8c9b-050895b4d8f7",
   "metadata": {},
   "outputs": [],
   "source": [
    "from matplotlib import colormaps\n",
    "\n",
    "list(colormaps)"
   ]
  },
  {
   "cell_type": "code",
   "execution_count": null,
   "id": "d5e3805e-0289-4914-86f0-7ac4dfe786fd",
   "metadata": {},
   "outputs": [],
   "source": [
    "\n",
    "y='tcpOutSegs'\n",
    "for x in pair:\n",
    "    if x!=y:\n",
    "        plt.figure(figsize=(8,3))\n",
    "        plt.scatter(z_scores[x], z_scores[y], marker='o', edgecolors='b')\n",
    "        plt.title(f'Relationship between {x} and {y}')\n",
    "        plt.xlabel(x)\n",
    "        plt.ylabel(y)\n",
    "        plt.legend(loc='best')\n",
    "        plt.show()\n"
   ]
  },
  {
   "cell_type": "code",
   "execution_count": null,
   "id": "642a7ff8-873c-43f7-a031-ee5f33f813b5",
   "metadata": {},
   "outputs": [],
   "source": [
    "NA3['ipInAddrErrors'].describe()\n"
   ]
  },
  {
   "cell_type": "markdown",
   "id": "aae426e2-a6a5-4612-9d19-719999d2f752",
   "metadata": {},
   "source": [
    "# II. Modeling"
   ]
  },
  {
   "cell_type": "markdown",
   "id": "71633afa-fb64-4197-89dc-fbe53c7bd408",
   "metadata": {},
   "source": [
    "### 1) Data Splitting :"
   ]
  },
  {
   "cell_type": "code",
   "execution_count": null,
   "id": "31a0a7ff-b634-495f-bf74-84ff28d75c44",
   "metadata": {
    "tags": []
   },
   "outputs": [],
   "source": [
    "from sklearn.model_selection import train_test_split\n",
    "\n",
    "X_train,X_test=train_test_split(NA3, test_size=0.3, random_state=404 )\n",
    "X_train.shape, X_test.shape\n",
    "X_train.describe()\n"
   ]
  },
  {
   "cell_type": "markdown",
   "id": "721eec86-7fbc-480e-9816-cb5f89ca745c",
   "metadata": {},
   "source": [
    "### 2) Isolation Forest :"
   ]
  },
  {
   "cell_type": "code",
   "execution_count": null,
   "id": "9931f04f-f6a0-459d-9c32-d893ea0d32f1",
   "metadata": {},
   "outputs": [],
   "source": [
    "from sklearn.ensemble import IsolationForest\n",
    "\n",
    "Iso=IsolationForest(n_estimators=200,max_samples='auto', contamination=0.05,\n",
    "                    max_features=1.0,random_state=404)\n",
    "Iso.fit(X_train)\n"
   ]
  },
  {
   "cell_type": "code",
   "execution_count": null,
   "id": "027b7c84-e263-4215-aaff-25ba2b2bd8c6",
   "metadata": {},
   "outputs": [],
   "source": [
    "anomaly=Iso.decision_function(X_test)\n",
    "anomaly_predict=X_test[anomaly<0]\n",
    "anomaly_predict.describe()\n",
    "#anomaly.size"
   ]
  },
  {
   "cell_type": "code",
   "execution_count": null,
   "id": "e81cf2ef-bb86-41ce-96ce-2570cd7b364b",
   "metadata": {},
   "outputs": [],
   "source": [
    "anomalie=Iso.decision_function(X_train)\n",
    "#y_true=\n",
    "Anom=[]\n",
    "for a in X_train['Class']:\n",
    "    if a==6 or a==7: Anom.append(1)\n",
    "    else: Anom.append(0)\n",
    "XX= X_train.iloc[:,0:34]     \n",
    "XX['Class']=Anom\n",
    "XX"
   ]
  },
  {
   "cell_type": "code",
   "execution_count": null,
   "id": "cbcbca9e-8087-419f-a5aa-c39ae5ff0ba4",
   "metadata": {},
   "outputs": [],
   "source": [
    "from sklearn.metrics import roc_auc_score\n",
    "\n",
    "y_true=XX['Class']\n",
    "anomalie=Iso.decision_function(XX)\n",
    "auc = roc_auc_score(y_true ,-anomalie)  \n",
    "print(f'{auc:.4f}')\n"
   ]
  },
  {
   "cell_type": "markdown",
   "id": "1430dfec-55a4-4b12-9e6b-f6cf02c299f9",
   "metadata": {},
   "source": [
    "this score shows that the model predicted better than random guessing"
   ]
  },
  {
   "cell_type": "code",
   "execution_count": null,
   "id": "70f7e8bd-993c-440f-9f82-4dced26e066f",
   "metadata": {},
   "outputs": [],
   "source": [
    "from sklearn.metrics import roc_curve\n",
    "\n",
    "# Compute the false positive rate (FPR), true positive rate (TPR), and thresholds\n",
    "fpr, tpr, thresholds = roc_curve(y_true, anomalie)\n",
    "# Plot the ROC curve\n",
    "plt.plot(fpr, tpr, label='ROC Curve (AUC = %0.3f)' % auc, color='r')\n",
    "plt.plot([0, 1], [0, 1], 'k--')  # Plotting the diagonal line for reference\n",
    "plt.xlabel('False Positive Rate')\n",
    "plt.ylabel('True Positive Rate')\n",
    "plt.title('Receiver Operating Characteristic (ROC) Curve')\n",
    "plt.legend(loc='lower right')\n",
    "plt.show()\n"
   ]
  },
  {
   "cell_type": "code",
   "execution_count": null,
   "id": "0e3862ef-9ff6-469c-8a46-7bbd4379a6e0",
   "metadata": {},
   "outputs": [],
   "source": [
    "lab=pd.DataFrame(le.inverse_transform(X_train['Class']),columns=['Class'])\n",
    "Counter(lab['Class'])"
   ]
  },
  {
   "cell_type": "markdown",
   "id": "534b2fc4-7a55-4028-a99b-f8c837ecb1fa",
   "metadata": {},
   "source": [
    "### 3) Gaussian Distribution :"
   ]
  },
  {
   "cell_type": "markdown",
   "id": "12326958-488c-47ae-9c3a-255962502f94",
   "metadata": {},
   "source": [
    "* Recall that the Gaussian distribution is given by\n",
    "\n",
    "   $$ p(x ; \\mu,\\sigma ^2) = \\frac{1}{\\sqrt{2 \\pi \\sigma ^2}}\\exp^{ - \\frac{(x - \\mu)^2}{2 \\sigma ^2} }$$\n"
   ]
  },
  {
   "cell_type": "code",
   "execution_count": null,
   "id": "3d983dc1-bf5d-4b78-bf3e-889876bf832d",
   "metadata": {},
   "outputs": [],
   "source": [
    "from scipy.stats import norm\n",
    "\n",
    "data=pd.concat([X_train['tcpOutSegs'],X_train['ipOutRequests']],axis=1, join='outer', \n",
    "               ignore_index=False,names=['ipOutRequests'])\n",
    "#data=X_train.iloc[:, 0:-1] \n",
    "# Estimate the mean and standard deviation from the data\n",
    "mu, sigm = np.mean(data), np.std(data)\n",
    "\n",
    "# Generate a range of values for the x-axis\n",
    "x = np.linspace(mu - 3*sigm, mu + 3*sigm, 100)\n",
    "\n",
    "# Calculate the probability density function (PDF) using the estimated parameters\n",
    "pdf = norm.pdf(x, mu, sigm)\n",
    "plt.figure(figsize=(12,8))\n",
    "# Plot the histogram of the data\n",
    "plt.hist(data, bins=50, density=True, alpha=0.5, label='Data')\n",
    "# Plot the Gaussian distribution\n",
    "plt.plot(x, pdf, 'r-', label='Gaussian Distribution')\n",
    "# Set the plot labels and legend\n",
    "plt.xlabel('Values')\n",
    "plt.ylabel('Probability Density')\n",
    "plt.title('Gaussian Distribution Fit')\n",
    "plt.legend(loc='best')\n",
    "\n",
    "# Show the plot\n",
    "plt.show()\n",
    "print(f'mu={mu} +/-{sigm} ')\n"
   ]
  },
  {
   "cell_type": "code",
   "execution_count": null,
   "id": "b3ff71ef-783f-40cd-93b0-4e90798a8306",
   "metadata": {},
   "outputs": [],
   "source": [
    "from matplotlib.gridspec import GridSpec\n",
    "\n",
    "v_features = X_train.iloc[:, 0:-1].columns\n",
    "plt.figure(figsize=(22, 12*4))\n",
    "num_rows=len(X_train.columns)-1\n",
    "gs = GridSpec(num_rows, 4)\n",
    "\n",
    "for i, cn in enumerate(v_features):\n",
    "    ax = plt.subplot(gs[i])\n",
    "    sns.histplot(X_train.loc[(X_train['Class'] >= 6), cn], bins=50, kde=True, color='red', label='Anomaly')\n",
    "    sns.histplot(X_train.loc[X_train['Class'] <6, cn], bins=50, kde=True, color='blue', label='Normal')\n",
    "    ax.set_xlabel('')\n",
    "    ax.set_title('Feature: ' + str(cn))\n",
    "    ax.legend()\n",
    "\n",
    "plt.tight_layout()\n",
    "plt.show()\n"
   ]
  },
  {
   "cell_type": "markdown",
   "id": "5c40c78e-e801-44c1-b078-88b0cd4d39dc",
   "metadata": {},
   "source": [
    "list of features that show anomaly distribution in our gridspec: <br>"
   ]
  },
  {
   "cell_type": "code",
   "execution_count": null,
   "id": "627d194b-587d-4284-b942-0cde184ad0fd",
   "metadata": {},
   "outputs": [],
   "source": [
    "Ano=['ifOutOctets11', 'ifInUcastPkts11', 'ifInUcastPkts11', 'ifInNUcastPkts11',\n",
    "     'ifOutUcastPkts11','tcpPassiveOpens', 'ipInDiscards',\n",
    "     'icmpOutMsgs', 'icmpInDestUnreachs', 'icmpOutEchoReps', 'Class']\n",
    "X_train[Ano]\n"
   ]
  },
  {
   "cell_type": "code",
   "execution_count": null,
   "id": "6d9f2e8b-fd3c-41eb-a9dc-b65c5d850b47",
   "metadata": {},
   "outputs": [],
   "source": [
    "from scipy.stats import norm\n",
    "\n",
    "out=X_train[X_train['Class']>=6]\n",
    "outliers=out[Ano].iloc[:,0:-1]\n",
    "\n",
    "data=X_train[Ano].iloc[:, 0:-1]\n",
    "mu, sigm = np.mean(data), np.std(data)\n",
    "# Generate a range of values for the x-axis\n",
    "x = np.linspace(mu - 3*sigm, mu + 3*sigm, 100)\n",
    "# Calculate the probability density function (PDF) using the estimated parameters\n",
    "pdf = norm.pdf(x, mu, sigm)\n",
    "plt.figure(figsize=(12,8))\n",
    "# Plot the histogram of the data\n",
    "plt.hist(data, bins=50, density=True, alpha=0.5, label='Data')\n",
    "# Plot the Gaussian distribution\n",
    "plt.plot(x, pdf, 'r-', label='Gaussian Distribution')\n",
    "# Set the plot labels and legend\n",
    "plt.xlabel('Values')\n",
    "plt.ylabel('Probability Density')\n",
    "plt.title('Gaussian Distribution Fit')\n",
    "plt.legend(loc='best')\n",
    "\n",
    "# Show the plot\n",
    "plt.show()\n",
    "print(f'mu={mu} +/-{sigm} ')\n"
   ]
  },
  {
   "cell_type": "markdown",
   "id": "4a421473-9f5a-48c3-953f-1ebb5b7a44d4",
   "metadata": {},
   "source": [
    "#### a\\ Classify Feature importance: "
   ]
  },
  {
   "cell_type": "code",
   "execution_count": null,
   "id": "1de51343-34e5-40dd-8196-d1c9bbf439c0",
   "metadata": {},
   "outputs": [],
   "source": [
    "from sklearn.metrics import mean_squared_error,r2_score\n",
    "\n",
    "def print_score(clf, X_train, X_test, Y_train, Y_test, train=True):\n",
    "    \"Print the accuracy score, Classification report and confusion matrix\"\n",
    "    if train:\n",
    "        \"Train performance\"\n",
    "        Y_train_pred=clf.predict(X_train)\n",
    "        print(f'Train Results:\\n')\n",
    "        print(f'MSE Train={mean_squared_error(Y_train,Y_train_pred):.4f}')\n",
    "        print(f'R² Train={r2_score(Y_train,Y_train_pred):.4f}')\n",
    "        \n",
    "   \n",
    "    elif train==False:\n",
    "        \"Test performance\"\n",
    "        Y_test_pred=clf.predict(X_test)\n",
    "        print(f'Test Results:\\n')\n",
    "        print(f'MSE Test ={mean_squared_error(Y_test,Y_test_pred):.4f}')\n",
    "        print(f'R² Test ={r2_score(Y_test,Y_test_pred):.4f}')\n"
   ]
  },
  {
   "cell_type": "code",
   "execution_count": null,
   "id": "fb54200f-2cca-4b42-a74f-be7698ce9795",
   "metadata": {},
   "outputs": [],
   "source": [
    "X=X_train.iloc[:, 0:-1]\n",
    "Y=X_train.iloc[:, -1]\n",
    "X1_test=X_test.iloc[:, 0:-1]\n",
    "Y1_test=X_test.iloc[:, -1]\n"
   ]
  },
  {
   "cell_type": "code",
   "execution_count": null,
   "id": "0e257856-b25f-4b9e-82c7-ae34b6d07d10",
   "metadata": {
    "tags": []
   },
   "outputs": [],
   "source": [
    "from sklearn.ensemble import RandomForestRegressor\n",
    "\n",
    "#Criterion: 'poisson', 'squared_error', 'friedman_mse', 'absolute_error'\n",
    "forest=RandomForestRegressor(n_estimators=500, criterion='squared_error', random_state=422, n_jobs=-1)\n",
    "forest.fit(X,Y)\n",
    "forest\n"
   ]
  },
  {
   "cell_type": "code",
   "execution_count": null,
   "id": "0e01961a-2555-4c4f-886c-c7bbcce9f6f7",
   "metadata": {
    "tags": []
   },
   "outputs": [],
   "source": [
    "print_score(forest, X, X1_test,Y, Y1_test, train=True)\n",
    "print('------------------------------------------>>')\n",
    "print_score(forest, X, X1_test,Y, Y1_test, train=False)\n"
   ]
  },
  {
   "cell_type": "code",
   "execution_count": null,
   "id": "0c4563b7-a16e-400b-b250-6dea8f848158",
   "metadata": {},
   "outputs": [],
   "source": [
    "import plotly\n",
    "import plotly.graph_objs as go\n",
    "from plotly.offline import *\n",
    "\n",
    "x, y = (list(x) for x in zip(*sorted(zip(forest.feature_importances_, \n",
    "                                         X.columns),reverse = False)))\n",
    "trace2 = go.Bar(x=x ,y=y,marker=dict(\n",
    "    color=x,colorscale = 'Viridis',reversescale = True),\n",
    "                name='Random Forest Feature importance',orientation='h',)\n",
    "\n",
    "layout = dict(title='Barplot of Feature importances',width = 600, height = 1000,\n",
    "              yaxis=dict(showgrid=False,showline=False,showticklabels=True,),\n",
    "              margin=dict(l=300,),)\n",
    "# domain=[0, 0.85],\n",
    "fig1 = go.Figure(data=[trace2], layout=layout)\n",
    "iplot(fig1)\n"
   ]
  },
  {
   "cell_type": "code",
   "execution_count": null,
   "id": "a2cb30da-fbbc-424a-8272-3ec689c78e29",
   "metadata": {},
   "outputs": [],
   "source": [
    "\n",
    "Features_I=[]\n",
    "for importance,name in sorted(zip(forest.feature_importances_,X.columns),reverse = True):\n",
    "    if importance > 0.03 :\n",
    "        Features_I.append(name)\n",
    "Features_I\n"
   ]
  },
  {
   "cell_type": "markdown",
   "id": "9cbf590a-a046-4345-a161-fe20759862fa",
   "metadata": {},
   "source": [
    "Need to separate dataset : normal and anomaly, for calculating cross validation"
   ]
  },
  {
   "cell_type": "code",
   "execution_count": null,
   "id": "cfbd6431-dd9b-486a-b278-e40d6e87a1b2",
   "metadata": {},
   "outputs": [],
   "source": [
    "NA_N=NA3[NA3['Class']<6 ]\n",
    "NA_A=NA3[NA3['Class']>=6 ]\n",
    "NA_N\n"
   ]
  },
  {
   "cell_type": "code",
   "execution_count": null,
   "id": "f0cd4771-2457-4d4a-994b-fcaf4f1a9f62",
   "metadata": {},
   "outputs": [],
   "source": [
    "from sklearn.model_selection import train_test_split\n",
    "\n",
    "X_trainN,X_testN=train_test_split(NA_N, test_size=0.3, random_state=65 )\n",
    "X_trainA,X_testA=train_test_split(NA_A, test_size=0.3, random_state=40 )\n",
    "X_trainA.shape, X_testA.shape\n",
    "X_trainA.describe()\n"
   ]
  },
  {
   "cell_type": "code",
   "execution_count": null,
   "id": "df63ef64-b626-4dd6-b28c-9dd0e7ea174a",
   "metadata": {},
   "outputs": [],
   "source": [
    "\n",
    "xtrain_strip_v0 = X_trainN[Features_I]\n",
    "xtrain_strip_v1 = X_trainA[Features_I]\n",
    "ytrain_v0=X_trainN['Class']\n",
    "ytrain_v1=X_trainA['Class']\n",
    "xtest_v0=X_testN[Features_I]\n",
    "xtest_v1=X_testA[Features_I]\n",
    "ytest_v0=X_testN['Class']\n",
    "ytest_v1=X_testA['Class']\n",
    "xtrain_strip_v0, ytrain_v0\n",
    "#xtest_v1, ytest_v1\n"
   ]
  },
  {
   "cell_type": "code",
   "execution_count": null,
   "id": "c5379dcd-f1e7-4ea9-adec-494bbd923d62",
   "metadata": {
    "tags": []
   },
   "outputs": [],
   "source": [
    "from sklearn.ensemble import RandomForestRegressor\n",
    "\n",
    "#Criterion: 'poisson', 'squared_error', 'friedman_mse', 'absolute_error'\n",
    "forest=RandomForestRegressor(n_estimators=100, criterion='squared_error', random_state=82, n_jobs=-1)\n",
    "forest.fit(xtrain_strip_v0,ytrain_v0)\n",
    "forest\n"
   ]
  },
  {
   "cell_type": "code",
   "execution_count": null,
   "id": "78eb9c63-606e-48dd-8986-14af8bb63370",
   "metadata": {},
   "outputs": [],
   "source": [
    "from sklearn.model_selection import cross_val_score\n",
    "\n",
    "scores = cross_val_score(forest, xtrain_strip_v0, ytrain_v0, cv=5, n_jobs=-1,\n",
    "                         scoring='r2') # for regression tasks: \"neg_mean_squared_error\",neg_mean_absolute_error\",\"r2\"\n",
    "scoresA = cross_val_score(forest, xtrain_strip_v1, ytrain_v1, cv=5, n_jobs=-1,\n",
    "                         scoring='r2')\n",
    "\n",
    "print(f'Scores Normal: {scores}\\n')\n",
    "print(f'Scores Anomaly: {scoresA}')\n"
   ]
  },
  {
   "cell_type": "markdown",
   "id": "bb859045-1167-4472-a7db-08401e163127",
   "metadata": {},
   "source": [
    "#### b\\ Select threshold for best F1 score :"
   ]
  },
  {
   "cell_type": "markdown",
   "id": "b9d0fd14-81cb-4c8d-a909-fa9f5a5c2ad8",
   "metadata": {},
   "source": [
    "* Then, you can compute precision and recall by: \n",
    "   $$\\begin{aligned}\n",
    "   prec&=&\\frac{tp}{tp+fp}\\\\\n",
    "   rec&=&\\frac{tp}{tp+fn},\n",
    "   \\end{aligned}$$ where\n",
    "    * $tp$ is the number of true positives: the ground truth label says it’s an anomaly and our algorithm correctly classified it as an anomaly.\n",
    "    * $fp$ is the number of false positives: the ground truth label says it’s not an anomaly, but our algorithm incorrectly classified it as an anomaly.\n",
    "    * $fn$ is the number of false negatives: the ground truth label says it’s an anomaly, but our algorithm incorrectly classified it as not being anomalous.\n",
    "\n",
    "  * The $F_1$ score is computed using precision ($prec$) and recall ($rec$) as follows:\n",
    "    $$F_1 = \\frac{2\\cdot prec \\cdot rec}{prec + rec}$$ \n"
   ]
  },
  {
   "cell_type": "code",
   "execution_count": null,
   "id": "7ca809ea-5b68-449c-af6c-807db5a2a18c",
   "metadata": {},
   "outputs": [],
   "source": [
    "from scipy.stats import multivariate_normal\n",
    "\n",
    "def estimateGaussian(dataset):\n",
    "    mu = np.mean(dataset, axis=0)\n",
    "    sigma = np.std(dataset)# rowvar=False)\n",
    "    return mu, sigma\n",
    "\n",
    "def multivariateGaussian(dataset,mu,sigma):\n",
    "    p = multivariate_normal(mean=mu, cov=sigma)\n",
    "    return p.pdf(dataset)\n"
   ]
  },
  {
   "cell_type": "code",
   "execution_count": null,
   "id": "0c4c130f-eaac-48ce-a6e8-e90ca79f434d",
   "metadata": {},
   "outputs": [],
   "source": [
    "mu, sigma=estimateGaussian(xtrain_strip_v0)\n",
    "mu\n"
   ]
  },
  {
   "cell_type": "code",
   "execution_count": null,
   "id": "41493cfe-bfc8-4a7a-97a9-e5655b3ed1ed",
   "metadata": {},
   "outputs": [],
   "source": [
    "mu, sigma=estimateGaussian(xtrain_strip_v0)\n",
    "mulg_v0=multivariateGaussian(xtrain_strip_v0,mu,sigma)\n"
   ]
  },
  {
   "cell_type": "code",
   "execution_count": null,
   "id": "ce03b508-c311-4e00-9d0f-0ed15b1aaa17",
   "metadata": {},
   "outputs": [],
   "source": [
    "mult_v1=multivariateGaussian(xtest_v1,mu,sigma)\n",
    "mulg_v1=multivariateGaussian(xtrain_strip_v1,mu,sigma)\n",
    "mulg_v1\n"
   ]
  },
  {
   "cell_type": "code",
   "execution_count": null,
   "id": "157d6969-53a5-4a4a-ba4b-c0ed0cbca9fe",
   "metadata": {},
   "outputs": [],
   "source": [
    "from sklearn.metrics import f1_score\n",
    "from sklearn.metrics import recall_score\n",
    "from sklearn.metrics import precision_score\n",
    "\n",
    "def selectThresholdByCV(probs,gt):\n",
    "    best_epsilon = 0\n",
    "    best_f1 = 0\n",
    "    f = 0\n",
    "    farray = []\n",
    "    Recallarray = []\n",
    "    Precisionarray = []\n",
    "    epsilons = (-0.001,0, 1e-3, 5e-3, 1e-2,5e-2, 1) #(0.0000e+00, 1.0527717316e-70, 1.0527717316e-50, 1.0527717316e-24)\n",
    "    #epsilons = np.asarray(epsilons)\n",
    "    for epsilon in epsilons:\n",
    "        predictions = (mulg_v0 < epsilon)\n",
    "        f = f1_score(ytrain_v0, predictions, average = \"weighted\")\n",
    "        Recall = recall_score(ytrain_v0, predictions, average = \"weighted\")\n",
    "        Precision = precision_score(ytrain_v0, predictions, average = \"weighted\",zero_division=1)\n",
    "        farray.append(f)\n",
    "        Recallarray.append(Recall)\n",
    "        Precisionarray.append(Precision)\n",
    "        print ('For below Epsilon')\n",
    "        print(epsilon)\n",
    "        print ('F1 score , Recall and Precision are as below')\n",
    "        print ('Best F1 Score %f' %f)\n",
    "        print ('Best Recall Score %f' %Recall)\n",
    "        print ('Best Precision Score %f' %Precision)\n",
    "        print ('-'*40)\n",
    "        if f > best_f1:\n",
    "            best_f1 = f\n",
    "            best_recall = Recall\n",
    "            best_precision = Precision\n",
    "            best_epsilon = epsilon    \n",
    "    fig = plt.figure()\n",
    "    ax = fig.add_axes([0.1, 0.5, 0.7, 0.3])\n",
    "    #plt.subplot(3,1,1)\n",
    "    plt.plot(farray ,\"ro\")\n",
    "    plt.plot(farray)\n",
    "    ax.set_xticks(range(7))\n",
    "    ax.set_xticklabels(epsilons,rotation = 60 ,fontsize = 'medium' )\n",
    "    ax.set_ylim((0,1.0))\n",
    "    ax.set_title('F1 score vs Epsilon value')\n",
    "    ax.annotate('Best F1 Score', xy=(best_epsilon,best_f1), xytext=(best_epsilon,best_f1))\n",
    "    plt.xlabel(\"Epsilon value\") \n",
    "    plt.ylabel(\"F1 Score\") \n",
    "    plt.ylim(0, 0.2)\n",
    "    plt.show()\n",
    "    fig = plt.figure()\n",
    "    ax = fig.add_axes([0.1, 0.5, 0.9, 0.3])\n",
    "    #plt.subplot(3,1,2)\n",
    "    plt.plot(Recallarray ,\"ro\")\n",
    "    plt.plot(Recallarray)\n",
    "    ax.set_xticks(range(7))\n",
    "    ax.set_xticklabels(epsilons,rotation = 60 ,fontsize = 'medium' )\n",
    "    ax.set_ylim((0,1.0))\n",
    "    ax.set_title('Recall vs Epsilon value')\n",
    "    ax.annotate('Best Recall Score', xy=(best_epsilon,best_recall), xytext=(best_epsilon,best_recall))\n",
    "    plt.xlabel(\"Epsilon value\") \n",
    "    plt.ylabel(\"Recall Score\") \n",
    "    plt.ylim(0, 0.2)\n",
    "    plt.show()\n",
    "    fig = plt.figure()\n",
    "    ax = fig.add_axes([0.1, 0.5, 0.9, 0.3])\n",
    "    #plt.subplot(3,1,3)\n",
    "    plt.plot(Precisionarray ,\"ro\")\n",
    "    plt.plot(Precisionarray)\n",
    "    ax.set_xticks(range(7))\n",
    "    ax.set_xticklabels(epsilons,rotation = 60 ,fontsize = 'medium' )\n",
    "    ax.set_ylim((0,1.0))\n",
    "    ax.set_title('Precision vs Epsilon value')\n",
    "    ax.annotate('Best Precision Score', xy=(best_epsilon,best_precision), xytext=(best_epsilon,best_precision))\n",
    "    plt.xlabel(\"Epsilon value\") \n",
    "    plt.ylabel(\"Precision Score\") \n",
    "    plt.ylim(0.6, 1)\n",
    "    plt.show()\n",
    "    return best_f1, best_epsilon\n"
   ]
  },
  {
   "cell_type": "code",
   "execution_count": null,
   "id": "a249ad45-6c43-4b54-95ab-6b4a68e71364",
   "metadata": {
    "scrolled": true
   },
   "outputs": [],
   "source": [
    "fscore, ep= selectThresholdByCV(mulg_v0,ytest_v1)\n"
   ]
  },
  {
   "cell_type": "code",
   "execution_count": null,
   "id": "04be3817-0386-44f4-8509-aee14d4fba6a",
   "metadata": {
    "_cell_guid": "43f5e9b4-8125-46ca-bdae-70d3add290b8",
    "_uuid": "8320b88b4d055aff7b0d5db54e4d22928bfa6c38"
   },
   "outputs": [],
   "source": [
    "ep"
   ]
  },
  {
   "cell_type": "markdown",
   "id": "00df161d-151e-4ecf-877c-4a0a632418fb",
   "metadata": {
    "_cell_guid": "d7593502-ef6a-4891-bf89-db49854332bd",
    "_uuid": "cd5399b33805a1b3fc07a9121aec1d2e709fed44",
    "collapsed": true,
    "jupyter": {
     "outputs_hidden": true
    }
   },
   "source": [
    "Epsilon value = 1e-2 is selected as threshold to identify Anomalous values \n",
    "now time to Predict and calculate  F1 , Recall and Precision score for our Test Dataset"
   ]
  },
  {
   "cell_type": "markdown",
   "id": "73810919-acc8-42dd-bf8a-54f19c3cecfb",
   "metadata": {},
   "source": [
    "#### remake full X_train and X_test:"
   ]
  },
  {
   "cell_type": "code",
   "execution_count": null,
   "id": "626a52b4-bb9c-4272-8f55-66c207c1033a",
   "metadata": {},
   "outputs": [],
   "source": [
    "train_X = pd.concat([X_trainN[Features_I],X_trainA[Features_I] ],axis=0)\n",
    "test_X = pd.concat([X_testN[Features_I],X_testA[Features_I]],axis=0)\n",
    "test_Y=pd.concat([X_testN['Class'],X_testA['Class']],axis=0)\n",
    "test_X\n"
   ]
  },
  {
   "cell_type": "markdown",
   "id": "611a76c4-32fc-4fb5-bd59-25600581cb25",
   "metadata": {},
   "source": [
    "#### c\\ Making predictions :"
   ]
  },
  {
   "cell_type": "code",
   "execution_count": null,
   "id": "ce026bca-fbfd-4610-9131-bec36c4647a2",
   "metadata": {},
   "outputs": [],
   "source": [
    "p_test=multivariateGaussian(test_X,mu,sigma)\n",
    "p_test\n"
   ]
  },
  {
   "cell_type": "code",
   "execution_count": null,
   "id": "3ca8ca45-0a19-4282-b50e-e210fb08c65e",
   "metadata": {
    "_cell_guid": "c60b8cca-6d84-47f8-91fd-08e7d161c2c9",
    "_uuid": "09d9efa434d6ebcfa9c4753840b55fdfdb102f3f"
   },
   "outputs": [],
   "source": [
    "predictions = (p_test < ep)\n",
    "Recall = recall_score(test_Y, predictions, average = \"weighted\")    \n",
    "Precision = precision_score(test_Y, predictions, average = \"weighted\",zero_division=1)\n",
    "F1score = f1_score(test_Y, predictions, average = \"weighted\")    \n",
    "print ('F1 score , Recall and Precision for Test dataset')\n",
    "print ('Best F1 Score %.4f' %F1score)\n",
    "print ('Best Recall Score %.4f' %Recall)\n",
    "print ('Best Precision Score %.4f' %Precision)\n"
   ]
  },
  {
   "cell_type": "markdown",
   "id": "7c206883-0949-4754-90de-6bfd60ec09fe",
   "metadata": {
    "_cell_guid": "32263e59-72a7-45e9-b3a1-1be0a8821dfe",
    "_uuid": "94a1153ef19da1e38a7efefbcf680fc1d0224633"
   },
   "source": [
    "##### Lets Visualize our predictions in below scatter plot \n"
   ]
  },
  {
   "cell_type": "code",
   "execution_count": null,
   "id": "d6fdfc75-9d8e-497b-8806-1af8486d94f6",
   "metadata": {},
   "outputs": [],
   "source": [
    "Features_I"
   ]
  },
  {
   "cell_type": "code",
   "execution_count": null,
   "id": "97f50d41-4eee-4abe-8445-31f09f3138d1",
   "metadata": {
    "_cell_guid": "dbd3a061-c143-4e23-9992-d2be680f0509",
    "_uuid": "3c62c8c46eaf0b39c5f11b70c39ac689bfbcc3eb"
   },
   "outputs": [],
   "source": [
    "fig, ax = plt.subplots(figsize=(16, 12))\n",
    "ax.scatter(test_X['tcpEstabResets'],test_X['ifOutNUcastPkts11'],marker=\"o\", color=\"lightBlue\")\n",
    "ax.set_title('Anomalies(in red) vs Predicted Anomalies(in Green)')\n",
    "for i, txt in enumerate(test_X.index):\n",
    "       if test_Y[txt] == 1 :\n",
    "            ax.annotate('*', (test_X['tcpEstabResets'][txt],test_X['ifOutNUcastPkts11'][txt]),fontsize=24,color='Red')\n",
    "       if predictions[i] == True :\n",
    "            ax.annotate('o', (test_X['tcpEstabResets'][txt],test_X['ifOutNUcastPkts11'][txt]),fontsize=15,color='Green')\n",
    "plt.legend(loc='best')\n",
    "plt.show()\n"
   ]
  },
  {
   "cell_type": "markdown",
   "id": "95a6bb24-931f-41be-844b-291836067e6a",
   "metadata": {
    "_cell_guid": "4b3f43b5-b021-4201-befa-2c6eaaff8fa1",
    "_uuid": "a4abe1dc06fa5b5d6e3bb8f08704671fe2205dc9"
   },
   "source": [
    "\n",
    "Precision of around 90% with Recall of 10%, \n"
   ]
  },
  {
   "cell_type": "code",
   "execution_count": null,
   "id": "11e6d9d5-c284-40c1-b20e-32c93380b0e4",
   "metadata": {},
   "outputs": [],
   "source": [
    "p_test=multivariateGaussian(xtrain_strip_v0,mu,sigma)\n",
    "np.info(object=p_test)\n",
    "xtrain_strip_v0.info()\n"
   ]
  },
  {
   "cell_type": "code",
   "execution_count": null,
   "id": "929b694b-ee49-455a-ac7f-5d660489d695",
   "metadata": {},
   "outputs": [],
   "source": [
    "\n",
    "xtrain_strip_v0 = X_trainN[Features_I]\n",
    "xtrain_strip_v1 = X_trainA[Features_I]\n",
    "ytrain_v0=X_trainN['Class']\n",
    "ytrain_v1=X_trainA['Class']\n",
    "xtest_v0=X_testN[Features_I]\n",
    "xtest_v1=X_testA[Features_I]\n",
    "ytest_v0=X_testN['Class']\n",
    "ytest_v1=X_testA['Class']\n",
    "#xtrain_strip_v0, ytrain_v0\n",
    "#xtest_v1, ytest_v1\n"
   ]
  },
  {
   "cell_type": "code",
   "execution_count": null,
   "id": "7bd74b4e-9980-4860-92cf-4bc0e46b7fc8",
   "metadata": {
    "_cell_guid": "c60b8cca-6d84-47f8-91fd-08e7d161c2c9",
    "_uuid": "09d9efa434d6ebcfa9c4753840b55fdfdb102f3f"
   },
   "outputs": [],
   "source": [
    "predictions = (p_test < ep)\n",
    "Recall = recall_score(ytrain_v0, predictions, average = \"weighted\")    \n",
    "Precision = precision_score(ytrain_v0, predictions, average = \"weighted\",zero_division=1)\n",
    "F1score = f1_score(ytrain_v0, predictions, average = \"weighted\")    \n",
    "print ('F1 score , Recall and Precision for Test dataset')\n",
    "print ('Best F1 Score %.4f' %F1score)\n",
    "print ('Best Recall Score %.4f' %Recall)\n",
    "print ('Best Precision Score %.4f' %Precision)\n"
   ]
  },
  {
   "cell_type": "markdown",
   "id": "bd90a874-803f-40ee-925a-7bfb60961992",
   "metadata": {},
   "source": [
    "Precision=85%, with a recall (anmalies predicted)=18%"
   ]
  },
  {
   "cell_type": "code",
   "execution_count": null,
   "id": "e20c4fa2-cbe7-4dba-8cb3-9083a0a0e31a",
   "metadata": {},
   "outputs": [],
   "source": []
  }
 ],
 "metadata": {
  "kernelspec": {
   "display_name": "Python 3 (ipykernel)",
   "language": "python",
   "name": "python3"
  },
  "language_info": {
   "codemirror_mode": {
    "name": "ipython",
    "version": 3
   },
   "file_extension": ".py",
   "mimetype": "text/x-python",
   "name": "python",
   "nbconvert_exporter": "python",
   "pygments_lexer": "ipython3",
   "version": "3.9.18"
  }
 },
 "nbformat": 4,
 "nbformat_minor": 5
}
